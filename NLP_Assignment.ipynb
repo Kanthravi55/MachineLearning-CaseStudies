{
  "nbformat": 4,
  "nbformat_minor": 0,
  "metadata": {
    "colab": {
      "name": "NLP_Assignment.ipynb",
      "provenance": [],
      "collapsed_sections": []
    },
    "kernelspec": {
      "name": "python3",
      "display_name": "Python 3"
    },
    "language_info": {
      "name": "python"
    }
  },
  "cells": [
    {
      "cell_type": "markdown",
      "metadata": {
        "id": "hp-nxSaB4wv-"
      },
      "source": [
        " ## **NLP Assignment: Sentiment Analysis**"
      ]
    },
    {
      "cell_type": "markdown",
      "metadata": {
        "id": "YRpCg37-5Akm"
      },
      "source": [
        "### **Name: Ravikanth Peddibhotla**"
      ]
    },
    {
      "cell_type": "markdown",
      "metadata": {
        "id": "_bsvpgrM5HoS"
      },
      "source": [
        "### **Email: kanthravi55@gmail.com**"
      ]
    },
    {
      "cell_type": "markdown",
      "metadata": {
        "id": "rH2AZZdp5NYq"
      },
      "source": [
        "### **Dataset: IMDB dataset**"
      ]
    },
    {
      "cell_type": "code",
      "metadata": {
        "id": "cpGX47jn5P0L"
      },
      "source": [
        "import pandas as pd\n",
        "import seaborn as sns\n",
        "\n",
        "%matplotlib inline\n",
        "import matplotlib.pyplot as plt\n",
        "import tensorflow as tf\n",
        "import numpy as np\n",
        "from scipy.spatial.distance import cdist"
      ],
      "execution_count": 1,
      "outputs": []
    },
    {
      "cell_type": "code",
      "metadata": {
        "colab": {
          "base_uri": "https://localhost:8080/"
        },
        "id": "R7GTCzT45rG6",
        "outputId": "e268e068-a337-4ef3-f61e-979cb628f0a1"
      },
      "source": [
        "movies_df = pd.read_csv(\"/content/drive/MyDrive/IMDB_Dataset.csv\", sep=',', engine='python', encoding='utf-8', error_bad_lines=False)"
      ],
      "execution_count": 2,
      "outputs": [
        {
          "output_type": "stream",
          "text": [
            "Skipping line 23712: unexpected end of data\n"
          ],
          "name": "stderr"
        }
      ]
    },
    {
      "cell_type": "markdown",
      "metadata": {
        "id": "BLTmUYgO6EXH"
      },
      "source": [
        "### **Exploratory Data Analysis**"
      ]
    },
    {
      "cell_type": "code",
      "metadata": {
        "id": "1rX5IMPu6ImH",
        "colab": {
          "base_uri": "https://localhost:8080/"
        },
        "outputId": "48b8fc40-201b-4705-9303-2da5165f0119"
      },
      "source": [
        "movies_df.info()"
      ],
      "execution_count": null,
      "outputs": [
        {
          "output_type": "stream",
          "text": [
            "<class 'pandas.core.frame.DataFrame'>\n",
            "RangeIndex: 23710 entries, 0 to 23709\n",
            "Data columns (total 2 columns):\n",
            " #   Column     Non-Null Count  Dtype \n",
            "---  ------     --------------  ----- \n",
            " 0   review     23710 non-null  object\n",
            " 1   sentiment  23710 non-null  object\n",
            "dtypes: object(2)\n",
            "memory usage: 370.6+ KB\n"
          ],
          "name": "stdout"
        }
      ]
    },
    {
      "cell_type": "code",
      "metadata": {
        "colab": {
          "base_uri": "https://localhost:8080/",
          "height": 173
        },
        "id": "XKTI_j9V2l0l",
        "outputId": "8d5da48f-8d4c-4c6b-bc85-006f971ecd37"
      },
      "source": [
        "movies_df.describe()"
      ],
      "execution_count": null,
      "outputs": [
        {
          "output_type": "execute_result",
          "data": {
            "text/html": [
              "<div>\n",
              "<style scoped>\n",
              "    .dataframe tbody tr th:only-of-type {\n",
              "        vertical-align: middle;\n",
              "    }\n",
              "\n",
              "    .dataframe tbody tr th {\n",
              "        vertical-align: top;\n",
              "    }\n",
              "\n",
              "    .dataframe thead th {\n",
              "        text-align: right;\n",
              "    }\n",
              "</style>\n",
              "<table border=\"1\" class=\"dataframe\">\n",
              "  <thead>\n",
              "    <tr style=\"text-align: right;\">\n",
              "      <th></th>\n",
              "      <th>review</th>\n",
              "      <th>sentiment</th>\n",
              "    </tr>\n",
              "  </thead>\n",
              "  <tbody>\n",
              "    <tr>\n",
              "      <th>count</th>\n",
              "      <td>23710</td>\n",
              "      <td>23710</td>\n",
              "    </tr>\n",
              "    <tr>\n",
              "      <th>unique</th>\n",
              "      <td>23613</td>\n",
              "      <td>2</td>\n",
              "    </tr>\n",
              "    <tr>\n",
              "      <th>top</th>\n",
              "      <td>Loved today's show!!! It was a variety and not...</td>\n",
              "      <td>negative</td>\n",
              "    </tr>\n",
              "    <tr>\n",
              "      <th>freq</th>\n",
              "      <td>4</td>\n",
              "      <td>11899</td>\n",
              "    </tr>\n",
              "  </tbody>\n",
              "</table>\n",
              "</div>"
            ],
            "text/plain": [
              "                                                   review sentiment\n",
              "count                                               23710     23710\n",
              "unique                                              23613         2\n",
              "top     Loved today's show!!! It was a variety and not...  negative\n",
              "freq                                                    4     11899"
            ]
          },
          "metadata": {
            "tags": []
          },
          "execution_count": 4
        }
      ]
    },
    {
      "cell_type": "code",
      "metadata": {
        "colab": {
          "base_uri": "https://localhost:8080/",
          "height": 204
        },
        "id": "v9MQTUUSh426",
        "outputId": "f0607e74-af70-4599-cbc4-020a90872d7c"
      },
      "source": [
        "movies_df.head()"
      ],
      "execution_count": null,
      "outputs": [
        {
          "output_type": "execute_result",
          "data": {
            "text/html": [
              "<div>\n",
              "<style scoped>\n",
              "    .dataframe tbody tr th:only-of-type {\n",
              "        vertical-align: middle;\n",
              "    }\n",
              "\n",
              "    .dataframe tbody tr th {\n",
              "        vertical-align: top;\n",
              "    }\n",
              "\n",
              "    .dataframe thead th {\n",
              "        text-align: right;\n",
              "    }\n",
              "</style>\n",
              "<table border=\"1\" class=\"dataframe\">\n",
              "  <thead>\n",
              "    <tr style=\"text-align: right;\">\n",
              "      <th></th>\n",
              "      <th>review</th>\n",
              "      <th>sentiment</th>\n",
              "    </tr>\n",
              "  </thead>\n",
              "  <tbody>\n",
              "    <tr>\n",
              "      <th>0</th>\n",
              "      <td>One of the other reviewers has mentioned that ...</td>\n",
              "      <td>positive</td>\n",
              "    </tr>\n",
              "    <tr>\n",
              "      <th>1</th>\n",
              "      <td>A wonderful little production. &lt;br /&gt;&lt;br /&gt;The...</td>\n",
              "      <td>positive</td>\n",
              "    </tr>\n",
              "    <tr>\n",
              "      <th>2</th>\n",
              "      <td>I thought this was a wonderful way to spend ti...</td>\n",
              "      <td>positive</td>\n",
              "    </tr>\n",
              "    <tr>\n",
              "      <th>3</th>\n",
              "      <td>Basically there's a family where a little boy ...</td>\n",
              "      <td>negative</td>\n",
              "    </tr>\n",
              "    <tr>\n",
              "      <th>4</th>\n",
              "      <td>Petter Mattei's \"Love in the Time of Money\" is...</td>\n",
              "      <td>positive</td>\n",
              "    </tr>\n",
              "  </tbody>\n",
              "</table>\n",
              "</div>"
            ],
            "text/plain": [
              "                                              review sentiment\n",
              "0  One of the other reviewers has mentioned that ...  positive\n",
              "1  A wonderful little production. <br /><br />The...  positive\n",
              "2  I thought this was a wonderful way to spend ti...  positive\n",
              "3  Basically there's a family where a little boy ...  negative\n",
              "4  Petter Mattei's \"Love in the Time of Money\" is...  positive"
            ]
          },
          "metadata": {
            "tags": []
          },
          "execution_count": 5
        }
      ]
    },
    {
      "cell_type": "code",
      "metadata": {
        "colab": {
          "base_uri": "https://localhost:8080/"
        },
        "id": "KLc8jPoDh5B5",
        "outputId": "0a66ca3d-c375-42ee-c04e-2020d38edb77"
      },
      "source": [
        "movies_df.isnull().sum()"
      ],
      "execution_count": null,
      "outputs": [
        {
          "output_type": "execute_result",
          "data": {
            "text/plain": [
              "review       0\n",
              "sentiment    0\n",
              "dtype: int64"
            ]
          },
          "metadata": {
            "tags": []
          },
          "execution_count": 6
        }
      ]
    },
    {
      "cell_type": "code",
      "metadata": {
        "colab": {
          "base_uri": "https://localhost:8080/",
          "height": 320
        },
        "id": "piu8mnbjiKM8",
        "outputId": "e83c9667-c2e6-41ef-ed88-f8efbbb99ac9"
      },
      "source": [
        "movies_df['label'] = movies_df['sentiment'].hist(figsize=(5,5),color='g')"
      ],
      "execution_count": null,
      "outputs": [
        {
          "output_type": "display_data",
          "data": {
            "image/png": "[encoded data removed]",
            "text/plain": [
              "<Figure size 360x360 with 1 Axes>"
            ]
          },
          "metadata": {
            "tags": [],
            "needs_background": "light"
          }
        }
      ]
    },
    {
      "cell_type": "markdown",
      "metadata": {
        "id": "S-QlI_gKiTrc"
      },
      "source": [
        "### **Bag of Words model**\n",
        "#### Step1: converting text to lower case, removing all non-word characters, removing all punctuations"
      ]
    },
    {
      "cell_type": "code",
      "metadata": {
        "colab": {
          "base_uri": "https://localhost:8080/"
        },
        "id": "sNpycb3Oii2E",
        "outputId": "7265e129-00c4-4e90-915d-4b219bdba0a3"
      },
      "source": [
        "import nltk\n",
        "import re\n",
        "import numpy as np\n",
        "nltk.download('punkt')"
      ],
      "execution_count": 3,
      "outputs": [
        {
          "output_type": "stream",
          "text": [
            "[nltk_data] Downloading package punkt to /root/nltk_data...\n",
            "[nltk_data]   Unzipping tokenizers/punkt.zip.\n"
          ],
          "name": "stdout"
        },
        {
          "output_type": "execute_result",
          "data": {
            "text/plain": [
              "True"
            ]
          },
          "metadata": {
            "tags": []
          },
          "execution_count": 3
        }
      ]
    },
    {
      "cell_type": "code",
      "metadata": {
        "colab": {
          "base_uri": "https://localhost:8080/"
        },
        "id": "K9o7tW4HimVc",
        "outputId": "f15e23de-59d8-4556-da01-ce5e23389155"
      },
      "source": [
        "movies_df.columns"
      ],
      "execution_count": null,
      "outputs": [
        {
          "output_type": "execute_result",
          "data": {
            "text/plain": [
              "Index(['review', 'sentiment', 'label'], dtype='object')"
            ]
          },
          "metadata": {
            "tags": []
          },
          "execution_count": 9
        }
      ]
    },
    {
      "cell_type": "code",
      "metadata": {
        "colab": {
          "base_uri": "https://localhost:8080/"
        },
        "id": "cjFc_qxainvK",
        "outputId": "92279e4b-de63-490c-bd66-12ebb40483ca"
      },
      "source": [
        "text = movies_df.loc[:,'review']\n",
        "pd.set_option(\"display.max_colwidth\", None)\n",
        "text"
      ],
      "execution_count": 23,
      "outputs": [
        {
          "output_type": "execute_result",
          "data": {
            "text/plain": [
              "0                                                                                                                                                                                                                                                                                                                                                                                                                                                                                                                                                                                                                                                                                                                             One of the other reviewers has mentioned that after watching just 1 Oz episode you'll be hooked. They are right, as this is exactly what happened with me.<br /><br />The first thing that struck me about Oz was its brutality and unflinching scenes of violence, which set in right from the word GO. Trust me, this is not a show for the faint hearted or timid. This show pulls no punches with regards to drugs, sex or violence. Its is hardcore, in the classic use of the word.<br /><br />It is called OZ as that is the nickname given to the Oswald Maximum Security State Penitentary. It focuses mainly on Emerald City, an experimental section of the prison where all the cells have glass fronts and face inwards, so privacy is not high on the agenda. Em City is home to many..Aryans, Muslims, gangstas, Latinos, Christians, Italians, Irish and more....so scuffles, death stares, dodgy dealings and shady agreements are never far away.<br /><br />I would say the main appeal of the show is due to the fact that it goes where other shows wouldn't dare. Forget pretty pictures painted for mainstream audiences, forget charm, forget romance...OZ doesn't mess around. The first episode I ever saw struck me as so nasty it was surreal, I couldn't say I was ready for it, but as I watched more, I developed a taste for Oz, and got accustomed to the high levels of graphic violence. Not just violence, but injustice (crooked guards who'll be sold out for a nickel, inmates who'll kill on order and get away with it, well mannered, middle class inmates being turned into prison bitches due to their lack of street skills or prison experience) Watching Oz, you may become comfortable with what is uncomfortable viewing....thats if you can get in touch with your darker side.\n",
              "1                                                                                                                                                                                                                                                                                                                                                                                                                                                                                                                                                                                                                                                                                                                                                                                                                                                                                                                                                                                                                                                                                                                                                                                                                                                                                                                                                                                                                                                                                                                        A wonderful little production. <br /><br />The filming technique is very unassuming- very old-time-BBC fashion and gives a comforting, and sometimes discomforting, sense of realism to the entire piece. <br /><br />The actors are extremely well chosen- Michael Sheen not only \"has got all the polari\" but he has all the voices down pat too! You can truly see the seamless editing guided by the references to Williams' diary entries, not only is it well worth the watching but it is a terrificly written and performed piece. A masterful production about one of the great master's of comedy and his life. <br /><br />The realism really comes home with the little things: the fantasy of the guard which, rather than use the traditional 'dream' techniques remains solid then disappears. It plays on our knowledge and our senses, particularly with the scenes concerning Orton and Halliwell and the sets (particularly of their flat with Halliwell's murals decorating every surface) are terribly well done.\n",
              "2                                                                                                                                                                                                                                                                                                                                                                                                                                                                                                                                                                                                                                                                                                                                                                                                                                                                                                                                                                                                                                                                                                                                                                                                                                                                                                                                                                                                                                                                                                                                                                                                I thought this was a wonderful way to spend time on a too hot summer weekend, sitting in the air conditioned theater and watching a light-hearted comedy. The plot is simplistic, but the dialogue is witty and the characters are likable (even the well bread suspected serial killer). While some may be disappointed when they realize this is not Match Point 2: Risk Addiction, I thought it was proof that Woody Allen is still fully in control of the style many of us have grown to love.<br /><br />This was the most I'd laughed at one of Woody's comedies in years (dare I say a decade?). While I've never been impressed with Scarlet Johanson, in this she managed to tone down her \"sexy\" image and jumped right into a average, but spirited young woman.<br /><br />This may not be the crown jewel of his career, but it was wittier than \"Devil Wears Prada\" and more interesting than \"Superman\" a great comedy to go see with friends.\n",
              "3                                                                                                                                                                                                                                                                                                                                                                                                                                                                                                                                                                                                                                                                                                                                                                                                                                                                                                                                                                                                                                                                                                                                                                                                                                                                                                                                                                                                                                                                                                                                                                                                                                                                                                                                                                                  Basically there's a family where a little boy (Jake) thinks there's a zombie in his closet & his parents are fighting all the time.<br /><br />This movie is slower than a soap opera... and suddenly, Jake decides to become Rambo and kill the zombie.<br /><br />OK, first of all when you're going to make a film you must Decide if its a thriller or a drama! As a drama the movie is watchable. Parents are divorcing & arguing like in real life. And then we have Jake with his closet which totally ruins all the film! I expected to see a BOOGEYMAN similar movie, and instead i watched a drama with some meaningless thriller spots.<br /><br />3 out of 10 just for the well playing parents & descent dialogs. As for the shots with Jake: just ignore them.\n",
              "4                                                                                                                                                                                                                                                                                                                                                                                                                                                                                                                                                                                                                                                                                                                                                                                                                                                                                                                                                                                                                                                                                                                                                                                         Petter Mattei's \"Love in the Time of Money\" is a visually stunning film to watch. Mr. Mattei offers us a vivid portrait about human relations. This is a movie that seems to be telling us what money, power and success do to people in the different situations we encounter. <br /><br />This being a variation on the Arthur Schnitzler's play about the same theme, the director transfers the action to the present time New York where all these different characters meet and connect. Each one is connected in one way, or another to the next person, but no one seems to know the previous point of contact. Stylishly, the film has a sophisticated luxurious look. We are taken to see how these people live and the world they live in their own habitat.<br /><br />The only thing one gets out of all these souls in the picture is the different stages of loneliness each one inhabits. A big city is not exactly the best place in which human relations find sincere fulfillment, as one discerns is the case with most of the people we encounter.<br /><br />The acting is good under Mr. Mattei's direction. Steve Buscemi, Rosario Dawson, Carol Kane, Michael Imperioli, Adrian Grenier, and the rest of the talented cast, make these characters come alive.<br /><br />We wish Mr. Mattei good luck and await anxiously for his next work.\n",
              "                                                                                                                                                                                                                                                                                                                                                                                                                                                                                                                                                                                                                                                                                                                                                                                                                                                                                                                                                                                                                                                                                                                                                                                                                                                                                  ...                                                                                                                                                                                                                                                                                                                                                                                                                                                                                                                                                                                                                                                                                                                                                                                                                                                                                                                                                                                                                                                                                                                                                                                                                                                                          \n",
              "23705                                                                                                                                                                                                                                                                                                                                                                                                                                                                                                                                                                                                                                                                                                                                                                                                                                                                                                                                                                                                                                                                                                                                                                                                                                                Well I have to say that I have waited for it to come.<br /><br />I won't try to spoil it and quite a few people have really brilliantly spoken of the pilot. On the other hand I'm not quite sure to understand the detractors who claim themselves to be BSG fans and not like the pilot.<br /><br />What the frack did they expect?!! The background is setting 50 years before BSG we are there o assist at the birth of the Cylons, see the life of the Adama family (has we already knew some of it from BSG), get a deeper explanation of the Caprican population and its perception of the other colonies, and potentially the origins of the Gods belief of the human and the unique God belief of the Cylons. <br /><br />I do not expect the same profusion of special effect or space opera as the in the previous series, I make the difference between the two although I know that Caprica will reinforce BSG.<br /><br />This is 1h30 of promising start, I believe as well that this will put pressure for the scenarios to be as good as BSG. I expect a lot from the following but I have no reasons to doubts that we will learn a lot more.<br /><br />Watching the DVD's deleted scene also gives more material for your brain to chew on.<br /><br />Looking forward to January 2010\n",
              "23706                                                                                                                                                                                                                                                                                                                                                                                                                                                                                                                                                                                                                                                                                                                                                                                                                                                                                                                                                                                                                                                                                                                                                                                                                                                                                                                                                                                                                                                                                                                                                                                                                                                                                                                                                                                                                                                                                                                  Relative to other Columbo movies, this can only be rated a 1 (awful). I seriously do not understand what the other reviewers have seen in this appalling train-crash of a film. It was only through morbid fascination that I continued to watch it - to see what bizarre or inept decision the director would make next.<br /><br />Another reviewer suggested that it was Falk's only directorial outing because it interfered with his acting role. In fact, I think the real reason lies with the studio bosses, who must have been horrified when they saw what he had done with their money. It's a wonder they didn't murder HIM.\n",
              "23707                                                                                                                                                                                                                                                                                                                                                                                                                                                                                                                                                                                                                                                                                                                                                                                            This early Anime movie was a rather good film that I caught once on the Science Fiction channel when Anime was actually popular here in America and not the ratings disaster that adult swim claims it is on the cartoon network. I quite frankly think it has less to do with it being less popular and more with the fact people would rather now buy dvds are watch the episodes uncut on the internet. This film though probably did not have all that many cuts and the voice work was okay for a dubbed movie, though I would rather watch the original Japanese version. Americans tend to use some rather annoying voices for children in anything dubbed. This film features a young boy who boards a train called the Galaxy Express in the hopes that he can make it to a planet that has the technology to turn him into a robot. He wishes to become a robot to avenge his mother, who was brutally murdered at the hands of a robot who hunts humans for fun. During the course of his adventures he becomes friends with the various workers aboard the train as well as a woman that resembles his deceased mother, a beautiful woman named Matel, who as with most woman in Anime movies has a secret that could either be really good for our young hero, or really bad. He goes from planet to planet too as the train makes various stops and he runs into a space pirate named Captain Harlock who apparently starred in his own animated cartoon series, so basically the Galaxy Express takes place in that universe. All in all a very good ride with a rather strange and unexpected ending. There would be a sequel to this one, but it was not quite as good as this one, however the ending was a bit more final than it was here.\n",
              "23708    PLEASE TAKE A MINUTE TO READ MY ENTIRE REVIEW. I AM NOT KNOCKING THE FILM ITSELF - ONLY THE DVD VERSIONS CURRENTLY AVAILABLE.<br /><br />***<br /><br />I really wanted to give this film even two stars. I mean how could it possibly rank a mere 1 out of 10!?!<br /><br />Here's how: An epic film adaptation of Tolstoy's novel \"War and Peace\" with historically accurate battle scenes, courtesy of the Red Army, and an extremely faithful, scene-for-scene adaptation of the novel would be difficult but worth sitting through for seven hours - if that's what you were seeing.<br /><br />The trouble is you can't see that film - anywhere as far as I know.<br /><br />I am attempting to watch the RusCiCo DVD version - widely considered the best version available since it's letter boxed and restores the scenes that were cut from other DVD releases. <br /><br />But, it is one of the worst film prints I've ever seen transfered to DVD. The picture is muddy and inconsistent, often strobing. It's almost tolerable if you crank your brightness, color and picture levels up to maximum.... but the problem doesn't end there.<br /><br />The sound is also way inconsistent, blaringly loud in parts, virtually inaudible in others. <br /><br />And as for languages, it's a HUGE problem for English speakers - the dubbed option has some good actors, and some really terrible ones whose performance grates, and parts of the film just aren't dubbed at all, slipping back into Russian and even French randomly.<br /><br />The subtitled option isn't much better. The subtitles don't appear below the image, but right over it - obscuring some of the beauty (or what's left of it) in the scenery. Furthermore, the subtitles are often a poor translation (a shame given that the script took pains to hew so close to Tolstoy's actual words), and the subtitles too seem to just drop out in parts. <br /><br />So, even if you max out the color, brightness and picture settings, and turn the volume way up, and choose subtitled *and* English dubbed, you're still going to get a film that's annoying to watch and listen to.<br /><br />Can it's content overcome that? It might have been able to, but at seven hours - who can stand it for that long?<br /><br />Maybe someday, someone will come along and restore this - and maybe then I will see a masterpiece - but for now, I just can't give more than one star to something I've only been able to stand watching about the first 12% of.\n",
              "23709                                                                                                                                                                                                                                                                                                                                                                                                                                                                                                                                                                                                                                                                                                                                                                                                                                                                                                                                                                                                                                                                                                                                                                                                                                                                                                                                                                                                                                                                                                                                                                                                                                                                                                                                                                                                    \"Bela Lugosi revels in his role as European horticulturalist (sic) Dr. Lorenz in this outlandish tale of horror and dementia. The good doctor's aging wife needs fluids harvested from the glands of young virgins in order to retain her youth and beauty. What better place for the doctor to maintain his supply than at the alter, where he kidnaps the unsuspecting brides before they can complete their vows? Sedating them into a coma-like state, he brings them to his mansion to collect his tainted bounty,\" according to the DVD sleeve's synopsis. That brief description is much more entertaining and imaginative than the movie.<br /><br />** The Corpse Vanishes (1942) Wallace Fox ~ Bela Lugosi, Luana Walters, Elizabeth Russell\n",
              "Name: review, Length: 23710, dtype: object"
            ]
          },
          "metadata": {
            "tags": []
          },
          "execution_count": 23
        }
      ]
    },
    {
      "cell_type": "code",
      "metadata": {
        "id": "P94y1o3E2n4D"
      },
      "source": [
        "from sklearn.model_selection import train_test_split\n",
        "X = text\n",
        "y = movies_df.iloc[:,1]\n",
        "X_train, X_test, y_train, y_test = train_test_split(X ,y , test_size=0.2)"
      ],
      "execution_count": 28,
      "outputs": []
    },
    {
      "cell_type": "code",
      "metadata": {
        "colab": {
          "base_uri": "https://localhost:8080/"
        },
        "id": "Kn_hCLGBK_kk",
        "outputId": "4f5f99e0-9731-4eca-ff4e-c368c060a71d"
      },
      "source": [
        "X[:]"
      ],
      "execution_count": 41,
      "outputs": [
        {
          "output_type": "execute_result",
          "data": {
            "text/plain": [
              "0                                                                                                                                                                                                                                                                                                                                                                                                                                                                                                                                                                                                                                                                                                                             One of the other reviewers has mentioned that after watching just 1 Oz episode you'll be hooked. They are right, as this is exactly what happened with me.<br /><br />The first thing that struck me about Oz was its brutality and unflinching scenes of violence, which set in right from the word GO. Trust me, this is not a show for the faint hearted or timid. This show pulls no punches with regards to drugs, sex or violence. Its is hardcore, in the classic use of the word.<br /><br />It is called OZ as that is the nickname given to the Oswald Maximum Security State Penitentary. It focuses mainly on Emerald City, an experimental section of the prison where all the cells have glass fronts and face inwards, so privacy is not high on the agenda. Em City is home to many..Aryans, Muslims, gangstas, Latinos, Christians, Italians, Irish and more....so scuffles, death stares, dodgy dealings and shady agreements are never far away.<br /><br />I would say the main appeal of the show is due to the fact that it goes where other shows wouldn't dare. Forget pretty pictures painted for mainstream audiences, forget charm, forget romance...OZ doesn't mess around. The first episode I ever saw struck me as so nasty it was surreal, I couldn't say I was ready for it, but as I watched more, I developed a taste for Oz, and got accustomed to the high levels of graphic violence. Not just violence, but injustice (crooked guards who'll be sold out for a nickel, inmates who'll kill on order and get away with it, well mannered, middle class inmates being turned into prison bitches due to their lack of street skills or prison experience) Watching Oz, you may become comfortable with what is uncomfortable viewing....thats if you can get in touch with your darker side.\n",
              "1                                                                                                                                                                                                                                                                                                                                                                                                                                                                                                                                                                                                                                                                                                                                                                                                                                                                                                                                                                                                                                                                                                                                                                                                                                                                                                                                                                                                                                                                                                                        A wonderful little production. <br /><br />The filming technique is very unassuming- very old-time-BBC fashion and gives a comforting, and sometimes discomforting, sense of realism to the entire piece. <br /><br />The actors are extremely well chosen- Michael Sheen not only \"has got all the polari\" but he has all the voices down pat too! You can truly see the seamless editing guided by the references to Williams' diary entries, not only is it well worth the watching but it is a terrificly written and performed piece. A masterful production about one of the great master's of comedy and his life. <br /><br />The realism really comes home with the little things: the fantasy of the guard which, rather than use the traditional 'dream' techniques remains solid then disappears. It plays on our knowledge and our senses, particularly with the scenes concerning Orton and Halliwell and the sets (particularly of their flat with Halliwell's murals decorating every surface) are terribly well done.\n",
              "2                                                                                                                                                                                                                                                                                                                                                                                                                                                                                                                                                                                                                                                                                                                                                                                                                                                                                                                                                                                                                                                                                                                                                                                                                                                                                                                                                                                                                                                                                                                                                                                                I thought this was a wonderful way to spend time on a too hot summer weekend, sitting in the air conditioned theater and watching a light-hearted comedy. The plot is simplistic, but the dialogue is witty and the characters are likable (even the well bread suspected serial killer). While some may be disappointed when they realize this is not Match Point 2: Risk Addiction, I thought it was proof that Woody Allen is still fully in control of the style many of us have grown to love.<br /><br />This was the most I'd laughed at one of Woody's comedies in years (dare I say a decade?). While I've never been impressed with Scarlet Johanson, in this she managed to tone down her \"sexy\" image and jumped right into a average, but spirited young woman.<br /><br />This may not be the crown jewel of his career, but it was wittier than \"Devil Wears Prada\" and more interesting than \"Superman\" a great comedy to go see with friends.\n",
              "3                                                                                                                                                                                                                                                                                                                                                                                                                                                                                                                                                                                                                                                                                                                                                                                                                                                                                                                                                                                                                                                                                                                                                                                                                                                                                                                                                                                                                                                                                                                                                                                                                                                                                                                                                                                  Basically there's a family where a little boy (Jake) thinks there's a zombie in his closet & his parents are fighting all the time.<br /><br />This movie is slower than a soap opera... and suddenly, Jake decides to become Rambo and kill the zombie.<br /><br />OK, first of all when you're going to make a film you must Decide if its a thriller or a drama! As a drama the movie is watchable. Parents are divorcing & arguing like in real life. And then we have Jake with his closet which totally ruins all the film! I expected to see a BOOGEYMAN similar movie, and instead i watched a drama with some meaningless thriller spots.<br /><br />3 out of 10 just for the well playing parents & descent dialogs. As for the shots with Jake: just ignore them.\n",
              "4                                                                                                                                                                                                                                                                                                                                                                                                                                                                                                                                                                                                                                                                                                                                                                                                                                                                                                                                                                                                                                                                                                                                                                                         Petter Mattei's \"Love in the Time of Money\" is a visually stunning film to watch. Mr. Mattei offers us a vivid portrait about human relations. This is a movie that seems to be telling us what money, power and success do to people in the different situations we encounter. <br /><br />This being a variation on the Arthur Schnitzler's play about the same theme, the director transfers the action to the present time New York where all these different characters meet and connect. Each one is connected in one way, or another to the next person, but no one seems to know the previous point of contact. Stylishly, the film has a sophisticated luxurious look. We are taken to see how these people live and the world they live in their own habitat.<br /><br />The only thing one gets out of all these souls in the picture is the different stages of loneliness each one inhabits. A big city is not exactly the best place in which human relations find sincere fulfillment, as one discerns is the case with most of the people we encounter.<br /><br />The acting is good under Mr. Mattei's direction. Steve Buscemi, Rosario Dawson, Carol Kane, Michael Imperioli, Adrian Grenier, and the rest of the talented cast, make these characters come alive.<br /><br />We wish Mr. Mattei good luck and await anxiously for his next work.\n",
              "                                                                                                                                                                                                                                                                                                                                                                                                                                                                                                                                                                                                                                                                                                                                                                                                                                                                                                                                                                                                                                                                                                                                                                                                                                                                                  ...                                                                                                                                                                                                                                                                                                                                                                                                                                                                                                                                                                                                                                                                                                                                                                                                                                                                                                                                                                                                                                                                                                                                                                                                                                                                          \n",
              "23705                                                                                                                                                                                                                                                                                                                                                                                                                                                                                                                                                                                                                                                                                                                                                                                                                                                                                                                                                                                                                                                                                                                                                                                                                                                Well I have to say that I have waited for it to come.<br /><br />I won't try to spoil it and quite a few people have really brilliantly spoken of the pilot. On the other hand I'm not quite sure to understand the detractors who claim themselves to be BSG fans and not like the pilot.<br /><br />What the frack did they expect?!! The background is setting 50 years before BSG we are there o assist at the birth of the Cylons, see the life of the Adama family (has we already knew some of it from BSG), get a deeper explanation of the Caprican population and its perception of the other colonies, and potentially the origins of the Gods belief of the human and the unique God belief of the Cylons. <br /><br />I do not expect the same profusion of special effect or space opera as the in the previous series, I make the difference between the two although I know that Caprica will reinforce BSG.<br /><br />This is 1h30 of promising start, I believe as well that this will put pressure for the scenarios to be as good as BSG. I expect a lot from the following but I have no reasons to doubts that we will learn a lot more.<br /><br />Watching the DVD's deleted scene also gives more material for your brain to chew on.<br /><br />Looking forward to January 2010\n",
              "23706                                                                                                                                                                                                                                                                                                                                                                                                                                                                                                                                                                                                                                                                                                                                                                                                                                                                                                                                                                                                                                                                                                                                                                                                                                                                                                                                                                                                                                                                                                                                                                                                                                                                                                                                                                                                                                                                                                                  Relative to other Columbo movies, this can only be rated a 1 (awful). I seriously do not understand what the other reviewers have seen in this appalling train-crash of a film. It was only through morbid fascination that I continued to watch it - to see what bizarre or inept decision the director would make next.<br /><br />Another reviewer suggested that it was Falk's only directorial outing because it interfered with his acting role. In fact, I think the real reason lies with the studio bosses, who must have been horrified when they saw what he had done with their money. It's a wonder they didn't murder HIM.\n",
              "23707                                                                                                                                                                                                                                                                                                                                                                                                                                                                                                                                                                                                                                                                                                                                                                                            This early Anime movie was a rather good film that I caught once on the Science Fiction channel when Anime was actually popular here in America and not the ratings disaster that adult swim claims it is on the cartoon network. I quite frankly think it has less to do with it being less popular and more with the fact people would rather now buy dvds are watch the episodes uncut on the internet. This film though probably did not have all that many cuts and the voice work was okay for a dubbed movie, though I would rather watch the original Japanese version. Americans tend to use some rather annoying voices for children in anything dubbed. This film features a young boy who boards a train called the Galaxy Express in the hopes that he can make it to a planet that has the technology to turn him into a robot. He wishes to become a robot to avenge his mother, who was brutally murdered at the hands of a robot who hunts humans for fun. During the course of his adventures he becomes friends with the various workers aboard the train as well as a woman that resembles his deceased mother, a beautiful woman named Matel, who as with most woman in Anime movies has a secret that could either be really good for our young hero, or really bad. He goes from planet to planet too as the train makes various stops and he runs into a space pirate named Captain Harlock who apparently starred in his own animated cartoon series, so basically the Galaxy Express takes place in that universe. All in all a very good ride with a rather strange and unexpected ending. There would be a sequel to this one, but it was not quite as good as this one, however the ending was a bit more final than it was here.\n",
              "23708    PLEASE TAKE A MINUTE TO READ MY ENTIRE REVIEW. I AM NOT KNOCKING THE FILM ITSELF - ONLY THE DVD VERSIONS CURRENTLY AVAILABLE.<br /><br />***<br /><br />I really wanted to give this film even two stars. I mean how could it possibly rank a mere 1 out of 10!?!<br /><br />Here's how: An epic film adaptation of Tolstoy's novel \"War and Peace\" with historically accurate battle scenes, courtesy of the Red Army, and an extremely faithful, scene-for-scene adaptation of the novel would be difficult but worth sitting through for seven hours - if that's what you were seeing.<br /><br />The trouble is you can't see that film - anywhere as far as I know.<br /><br />I am attempting to watch the RusCiCo DVD version - widely considered the best version available since it's letter boxed and restores the scenes that were cut from other DVD releases. <br /><br />But, it is one of the worst film prints I've ever seen transfered to DVD. The picture is muddy and inconsistent, often strobing. It's almost tolerable if you crank your brightness, color and picture levels up to maximum.... but the problem doesn't end there.<br /><br />The sound is also way inconsistent, blaringly loud in parts, virtually inaudible in others. <br /><br />And as for languages, it's a HUGE problem for English speakers - the dubbed option has some good actors, and some really terrible ones whose performance grates, and parts of the film just aren't dubbed at all, slipping back into Russian and even French randomly.<br /><br />The subtitled option isn't much better. The subtitles don't appear below the image, but right over it - obscuring some of the beauty (or what's left of it) in the scenery. Furthermore, the subtitles are often a poor translation (a shame given that the script took pains to hew so close to Tolstoy's actual words), and the subtitles too seem to just drop out in parts. <br /><br />So, even if you max out the color, brightness and picture settings, and turn the volume way up, and choose subtitled *and* English dubbed, you're still going to get a film that's annoying to watch and listen to.<br /><br />Can it's content overcome that? It might have been able to, but at seven hours - who can stand it for that long?<br /><br />Maybe someday, someone will come along and restore this - and maybe then I will see a masterpiece - but for now, I just can't give more than one star to something I've only been able to stand watching about the first 12% of.\n",
              "23709                                                                                                                                                                                                                                                                                                                                                                                                                                                                                                                                                                                                                                                                                                                                                                                                                                                                                                                                                                                                                                                                                                                                                                                                                                                                                                                                                                                                                                                                                                                                                                                                                                                                                                                                                                                                    \"Bela Lugosi revels in his role as European horticulturalist (sic) Dr. Lorenz in this outlandish tale of horror and dementia. The good doctor's aging wife needs fluids harvested from the glands of young virgins in order to retain her youth and beauty. What better place for the doctor to maintain his supply than at the alter, where he kidnaps the unsuspecting brides before they can complete their vows? Sedating them into a coma-like state, he brings them to his mansion to collect his tainted bounty,\" according to the DVD sleeve's synopsis. That brief description is much more entertaining and imaginative than the movie.<br /><br />** The Corpse Vanishes (1942) Wallace Fox ~ Bela Lugosi, Luana Walters, Elizabeth Russell\n",
              "Name: review, Length: 23710, dtype: object"
            ]
          },
          "metadata": {
            "tags": []
          },
          "execution_count": 41
        }
      ]
    },
    {
      "cell_type": "code",
      "metadata": {
        "colab": {
          "base_uri": "https://localhost:8080/"
        },
        "id": "YC767khM6_QS",
        "outputId": "878dbef4-2bad-4272-bac8-12e88301c588"
      },
      "source": [
        "print(\"Train-set size: \", len(X_train))\n",
        "print(\"Test-set size:  \", len(X_test))\n",
        "print(\"Train-set output size\", len(X_train))\n",
        "print(\"Test-set output size\", len(y_test))"
      ],
      "execution_count": 30,
      "outputs": [
        {
          "output_type": "stream",
          "text": [
            "Train-set size:  18968\n",
            "Test-set size:   4742\n",
            "Train-set output size 18968\n",
            "Test-set output size 4742\n"
          ],
          "name": "stdout"
        }
      ]
    },
    {
      "cell_type": "code",
      "metadata": {
        "colab": {
          "base_uri": "https://localhost:8080/"
        },
        "id": "_mWfkME67QJr",
        "outputId": "b412a882-55ee-453e-bee5-67d99138378e"
      },
      "source": [
        "y"
      ],
      "execution_count": 31,
      "outputs": [
        {
          "output_type": "execute_result",
          "data": {
            "text/plain": [
              "0        positive\n",
              "1        positive\n",
              "2        positive\n",
              "3        negative\n",
              "4        positive\n",
              "           ...   \n",
              "23705    positive\n",
              "23706    negative\n",
              "23707    positive\n",
              "23708    negative\n",
              "23709    negative\n",
              "Name: sentiment, Length: 23710, dtype: object"
            ]
          },
          "metadata": {
            "tags": []
          },
          "execution_count": 31
        }
      ]
    },
    {
      "cell_type": "code",
      "metadata": {
        "colab": {
          "base_uri": "https://localhost:8080/"
        },
        "id": "jAPqTE_dBIVw",
        "outputId": "a9a32c24-85aa-4f2a-d4f7-bfb3ac9d74d1"
      },
      "source": [
        "np.array(X_train)"
      ],
      "execution_count": 32,
      "outputs": [
        {
          "output_type": "execute_result",
          "data": {
            "text/plain": [
              "array([\"i still can't belive that starevich made this film back in 1934. animation is simply perfect, and what is amazing about it, with all the advanced technology we have nowadays there are few animation studios that are capable of producing a little gem like this one. it has everything: a great story, beautiful chracters (although this is a morbid kind of beauty in some cases), special effects... well, it is definitely not a kid's movie,but it's a must-see for anyone seriously interested in animation.\",\n",
              "       'Wow, what can I say about this film? It\\'s a lousy piece of crap. I\\'m surprised that it got rated as high as it did. What\\'s wrong with this film? Here\\'s a better question: What\\'s NOT wrong with this film.<br /><br />The story itself is just crap and cliché. Here\\'s pretty much what it\\'s about...Some kinda nerdy kid with no friends gets picked on, gets killed, and comes back as a scarecrow for revenge. \"All\" of that is packed into 86 minutes of worthless film. If you haven\\'t seen this movie don\\'t waste your time watching it. Also, the second one isn\\'t much better, so don\\'t bother watching that either...I rated this movie a three because I liked the scarecrow\\'s outfit, not because there was anything good about the movie. I think you get the picture.',\n",
              "       'I felt this movie started out well. The acting was spot on and I felt for all the characters situation, even though the true family unit was not completely revealed. We never got enough info on the father to truly feel his pain for his whole involvement or the build up for his animosity with Tobe. I mean in one scene you see him admiring her for tensity and in another scene he just about takes her head off. Another problem with the movie was it just unraveled and lost all focus by the end, and I was begging for it to just be over with. Any movie with such a long drawn out , and painful ending should never get an automatic rating of 7 or above just for the acting. We are looking at the over all quality of the movie experience. In the case of this movie the end is so bad I seriously contemplated just walking out of the theater. This movie pulled me in then just spit me out.',\n",
              "       ...,\n",
              "       \"To be honest, I did never read one of the comics and cannot remember part 2 and 3 at all. I can compare to the first part (Werner - Beinhart) and this one here is really disappointing, compared to part1 as well as compared to most other movies I watched the last weeks. The first minutes seam to be just a needless clone of the first movie intro and then it is becoming even worse. There are a few good (funny) scenes, but in total it is just another boring second-rate try of German film industry that cannot succeed (nearly as usual). One good thing: The movie is quite short (75 min.) The bad thing: It only contains story and jokes for 45 Minutes ;) -> Don't watch it\",\n",
              "       \"I loved this movie when I was a teenager. LOVED it. It hasn't grown up with me, though. Maybe that's because it's a melodramatic load of old rubbish, full of macho posturing, cheesy dialogue, overwrought slo-mo and characters saying 'Goddammit' a lot. The lumpy narrative blobs gracelessly from one character to another, one plot strand to another, without ever bringing it all together, and it doesn't help that William Baldwin's mono-expression of a performance is wet enough to put out every fire in the movie's overlong runtime. Robert DeNiro and Donald Sutherland are worth watching, but no one's really at the top of their game here, and the women folk get particularly short thrift. The only real impact comes from the impressive firefighting sequences, and Hans Zimmer's majestic score, which remains one of my all-time favourites.\",\n",
              "       \"When i was told of this movie i thought it would be another chick flick. I was wrong. This movie sends a powerful message about judging others. I was deeply moved. Everyone i have encountered, I have recommended this movie to. No one has come back saying it was bad. Busy, also did a great job with her role in this film. I don't know much about her acting career but wow, they way she pulled off the end of this fill was great.<br /><br />At the beginning it was a little slow. But after she went to the hospital....wow, the movie picks up again. i have no idea why this movie hasn't been spoken of in the movie world. My wish would be for this movie to be released again and advertised more...because it sends a powerful message in a mere hour and a half.\"],\n",
              "      dtype=object)"
            ]
          },
          "metadata": {
            "tags": []
          },
          "execution_count": 32
        }
      ]
    },
    {
      "cell_type": "markdown",
      "metadata": {
        "id": "WWW696CR-H82"
      },
      "source": [
        "## **Building the Bag of Words model**\n",
        "In this step we construct a vector, which would tell us whether a word in each sentence is a frequent word or not. If a word in a sentence is a frequent word, we set it as 1, else we set it as 0"
      ]
    },
    {
      "cell_type": "code",
      "metadata": {
        "id": "HpDqynxy9kdm"
      },
      "source": [
        "import re\n",
        "\n",
        "sentence = nltk.sent_tokenize(str(text))\n",
        "for i in range(len(sentence)):\n",
        "    sentence[i] = sentence[i].lower()\n",
        "    sentence[i] = re.sub(r'\\W', ' ', sentence[i])\n",
        "    sentence[i] = re.sub(r'\\s+', ' ', sentence[i])\n",
        "sentence    "
      ],
      "execution_count": null,
      "outputs": []
    },
    {
      "cell_type": "code",
      "metadata": {
        "id": "LB31PhD8izn1",
        "colab": {
          "base_uri": "https://localhost:8080/"
        },
        "outputId": "895fa73d-8cda-4c12-c2ee-982500fb57a2"
      },
      "source": [
        "import re\n",
        "nltk.download('stopwords')\n",
        "nltk.download('wordnet')\n",
        "from nltk.corpus import stopwords\n",
        "#from nltk.stem.porter import PorterStemmer\n",
        "from nltk.stem import WordNetLemmatizer\n",
        "\n",
        "#ps = PorterStemmer()\n",
        "wordnet = WordNetLemmatizer()\n",
        "corpus = []\n",
        "\n",
        "dataset = nltk.word_tokenize(str(sentence))\n",
        "for i in range(len(dataset)):\n",
        "  dataset[i] = re.sub('[^a-zA-Z]',' ',dataset[i])\n",
        "  dataset[i] = dataset[i].lower()\n",
        "  review = dataset[i].split()\n",
        "  review = [wordnet.lemmatize(word) for word in review if not word in set(stopwords.words('english'))]\n",
        "  review = ''.join(review)\n",
        "  corpus.append(review)\n",
        "  #  dataset[i] = re.sub(r'\\W', ' ', dataset[i])\n",
        "  #  dataset[i] = re.sub(r'\\s+', ' ', dataset[i])"
      ],
      "execution_count": 34,
      "outputs": [
        {
          "output_type": "stream",
          "text": [
            "[nltk_data] Downloading package stopwords to /root/nltk_data...\n",
            "[nltk_data]   Package stopwords is already up-to-date!\n",
            "[nltk_data] Downloading package wordnet to /root/nltk_data...\n",
            "[nltk_data]   Package wordnet is already up-to-date!\n"
          ],
          "name": "stdout"
        }
      ]
    },
    {
      "cell_type": "code",
      "metadata": {
        "id": "ZaeBYLyfi13-"
      },
      "source": [
        "corpus"
      ],
      "execution_count": null,
      "outputs": []
    },
    {
      "cell_type": "code",
      "metadata": {
        "id": "1FSmOyMX76o9"
      },
      "source": [
        "from keras.preprocessing.text import Tokenizer\n",
        "\n",
        "tokenizer = Tokenizer(num_words=corpus)\n",
        "tokenizer.fit_on_texts(corpus)\n",
        "\n",
        "tokenizer.word_index"
      ],
      "execution_count": null,
      "outputs": []
    },
    {
      "cell_type": "markdown",
      "metadata": {
        "id": "y8-fp0_D-6pp"
      },
      "source": [
        "## **Using Spacy for preprocessing**"
      ]
    },
    {
      "cell_type": "code",
      "metadata": {
        "id": "0oNSK57_-dEq"
      },
      "source": [
        "!python -m spacy download en"
      ],
      "execution_count": null,
      "outputs": []
    },
    {
      "cell_type": "code",
      "metadata": {
        "id": "Bl6hg-y1_ELu"
      },
      "source": [
        "import spacy\n",
        "nlp = spacy.load('en_core_web_sm')\n",
        "from spacy import displacy"
      ],
      "execution_count": 38,
      "outputs": []
    },
    {
      "cell_type": "code",
      "metadata": {
        "colab": {
          "base_uri": "https://localhost:8080/"
        },
        "id": "9oSfPc9f_KpQ",
        "outputId": "c4915e5f-be8d-4cd2-ef16-4495bab6dad0"
      },
      "source": [
        "text = X[:]\n",
        " # Process the text\n",
        "doc = nlp(str(text))\n",
        " # Print the document text\n",
        "type(doc)"
      ],
      "execution_count": 39,
      "outputs": [
        {
          "output_type": "execute_result",
          "data": {
            "text/plain": [
              "spacy.tokens.doc.Doc"
            ]
          },
          "metadata": {
            "tags": []
          },
          "execution_count": 39
        }
      ]
    },
    {
      "cell_type": "code",
      "metadata": {
        "id": "KsKS2ffBGymC"
      },
      "source": [
        "for token in doc:\n",
        "  print(token.text)"
      ],
      "execution_count": null,
      "outputs": []
    },
    {
      "cell_type": "code",
      "metadata": {
        "id": "msez0uufL2G3"
      },
      "source": [
        "for token in doc:\n",
        "  print(token.text,'--',token.is_stop,'---',token.is_punct)"
      ],
      "execution_count": null,
      "outputs": []
    },
    {
      "cell_type": "code",
      "metadata": {
        "colab": {
          "base_uri": "https://localhost:8080/"
        },
        "id": "DX4SQrRFA6Ky",
        "outputId": "db4fba40-746a-45e2-9acb-19d20fb68458"
      },
      "source": [
        "import string\n",
        "punct = string.punctuation\n",
        "print(punct)"
      ],
      "execution_count": null,
      "outputs": [
        {
          "output_type": "stream",
          "text": [
            "!\"#$%&'()*+,-./:;<=>?@[\\]^_`{|}~\n"
          ],
          "name": "stdout"
        }
      ]
    },
    {
      "cell_type": "code",
      "metadata": {
        "id": "CgE-1yb75cAf"
      },
      "source": [
        "from sklearn.feature_extraction.text import CountVectorizer\n",
        "cv = CountVectorizer()\n",
        "x = cv.fit_transform(corpus).toarray()"
      ],
      "execution_count": 42,
      "outputs": []
    },
    {
      "cell_type": "code",
      "metadata": {
        "colab": {
          "base_uri": "https://localhost:8080/"
        },
        "id": "-hRnnDBdxMDA",
        "outputId": "58df7da1-e4b4-4925-9051-f7e370af0866"
      },
      "source": [
        "x"
      ],
      "execution_count": 43,
      "outputs": [
        {
          "output_type": "execute_result",
          "data": {
            "text/plain": [
              "array([[0, 0, 0, ..., 0, 0, 0],\n",
              "       [0, 0, 0, ..., 0, 0, 0],\n",
              "       [0, 0, 0, ..., 0, 0, 0],\n",
              "       ...,\n",
              "       [0, 0, 0, ..., 0, 0, 0],\n",
              "       [0, 0, 0, ..., 0, 0, 0],\n",
              "       [0, 0, 0, ..., 0, 0, 0]])"
            ]
          },
          "metadata": {
            "tags": []
          },
          "execution_count": 43
        }
      ]
    },
    {
      "cell_type": "code",
      "metadata": {
        "id": "nV0ghu8ImFJJ"
      },
      "source": [
        "# Scikit Learn\n",
        "from sklearn.feature_extraction.text import CountVectorizer\n",
        "import pandas as pd\n",
        "\n",
        "# Create the Document Term Matrix\n",
        "count_vectorizer = CountVectorizer(stop_words='english')\n",
        "count_vectorizer = CountVectorizer()\n",
        "sparse_matrix = count_vectorizer.fit_transform(sentence)"
      ],
      "execution_count": 44,
      "outputs": []
    },
    {
      "cell_type": "code",
      "metadata": {
        "colab": {
          "base_uri": "https://localhost:8080/"
        },
        "id": "6m-0CSjjxNVW",
        "outputId": "165c29b4-0fe2-466f-c4d0-07fc1b9b7b04"
      },
      "source": [
        "sparse_matrix"
      ],
      "execution_count": 45,
      "outputs": [
        {
          "output_type": "execute_result",
          "data": {
            "text/plain": [
              "<72x881 sparse matrix of type '<class 'numpy.int64'>'\n",
              "\twith 1823 stored elements in Compressed Sparse Row format>"
            ]
          },
          "metadata": {
            "tags": []
          },
          "execution_count": 45
        }
      ]
    },
    {
      "cell_type": "code",
      "metadata": {
        "id": "A5OlKh5CyXHN"
      },
      "source": [
        "sentences = cv.fit_transform(sentence).toarray()"
      ],
      "execution_count": 46,
      "outputs": []
    },
    {
      "cell_type": "code",
      "metadata": {
        "colab": {
          "base_uri": "https://localhost:8080/"
        },
        "id": "7QRZSfXOyetv",
        "outputId": "dc2fb4fb-a4d2-42d2-abbd-f45f3fe8b847"
      },
      "source": [
        "sentences.shape"
      ],
      "execution_count": 47,
      "outputs": [
        {
          "output_type": "execute_result",
          "data": {
            "text/plain": [
              "(72, 881)"
            ]
          },
          "metadata": {
            "tags": []
          },
          "execution_count": 47
        }
      ]
    },
    {
      "cell_type": "markdown",
      "metadata": {
        "id": "0mNfANvrxvXY"
      },
      "source": [
        "## **Cosine Similarity of reviews**"
      ]
    },
    {
      "cell_type": "code",
      "metadata": {
        "colab": {
          "base_uri": "https://localhost:8080/"
        },
        "id": "QU78nCQY7KyL",
        "outputId": "e5c3f527-64f4-4ef7-a5de-f96f81c0f19a"
      },
      "source": [
        "X[0:2]"
      ],
      "execution_count": 48,
      "outputs": [
        {
          "output_type": "execute_result",
          "data": {
            "text/plain": [
              "0    One of the other reviewers has mentioned that after watching just 1 Oz episode you'll be hooked. They are right, as this is exactly what happened with me.<br /><br />The first thing that struck me about Oz was its brutality and unflinching scenes of violence, which set in right from the word GO. Trust me, this is not a show for the faint hearted or timid. This show pulls no punches with regards to drugs, sex or violence. Its is hardcore, in the classic use of the word.<br /><br />It is called OZ as that is the nickname given to the Oswald Maximum Security State Penitentary. It focuses mainly on Emerald City, an experimental section of the prison where all the cells have glass fronts and face inwards, so privacy is not high on the agenda. Em City is home to many..Aryans, Muslims, gangstas, Latinos, Christians, Italians, Irish and more....so scuffles, death stares, dodgy dealings and shady agreements are never far away.<br /><br />I would say the main appeal of the show is due to the fact that it goes where other shows wouldn't dare. Forget pretty pictures painted for mainstream audiences, forget charm, forget romance...OZ doesn't mess around. The first episode I ever saw struck me as so nasty it was surreal, I couldn't say I was ready for it, but as I watched more, I developed a taste for Oz, and got accustomed to the high levels of graphic violence. Not just violence, but injustice (crooked guards who'll be sold out for a nickel, inmates who'll kill on order and get away with it, well mannered, middle class inmates being turned into prison bitches due to their lack of street skills or prison experience) Watching Oz, you may become comfortable with what is uncomfortable viewing....thats if you can get in touch with your darker side.\n",
              "1                                                                                                                                                                                                                                                                                                                                                                                                                                                                                                                                                                                                                                                                                                                                                                                               A wonderful little production. <br /><br />The filming technique is very unassuming- very old-time-BBC fashion and gives a comforting, and sometimes discomforting, sense of realism to the entire piece. <br /><br />The actors are extremely well chosen- Michael Sheen not only \"has got all the polari\" but he has all the voices down pat too! You can truly see the seamless editing guided by the references to Williams' diary entries, not only is it well worth the watching but it is a terrificly written and performed piece. A masterful production about one of the great master's of comedy and his life. <br /><br />The realism really comes home with the little things: the fantasy of the guard which, rather than use the traditional 'dream' techniques remains solid then disappears. It plays on our knowledge and our senses, particularly with the scenes concerning Orton and Halliwell and the sets (particularly of their flat with Halliwell's murals decorating every surface) are terribly well done.\n",
              "Name: review, dtype: object"
            ]
          },
          "metadata": {
            "tags": []
          },
          "execution_count": 48
        }
      ]
    },
    {
      "cell_type": "code",
      "metadata": {
        "id": "U7PuU_Rb4daO"
      },
      "source": [
        "a = nlp(str(X[0:1])).vector\n",
        "b = nlp(str(X[1:2])).vector"
      ],
      "execution_count": 49,
      "outputs": []
    },
    {
      "cell_type": "code",
      "metadata": {
        "id": "ScsHihi1xqRx"
      },
      "source": [
        "# Compute Cosine Similarity\n",
        "def cosine_similarity(a,b):\n",
        "  return a.dot(b)/np.sqrt(a.dot(a)*b.dot(b))"
      ],
      "execution_count": 50,
      "outputs": []
    },
    {
      "cell_type": "code",
      "metadata": {
        "colab": {
          "base_uri": "https://localhost:8080/"
        },
        "id": "-5ZsW80S0CnX",
        "outputId": "8e033d4a-35e3-419a-9436-81bee8c288cb"
      },
      "source": [
        "cosine_similarity(a,b)"
      ],
      "execution_count": 51,
      "outputs": [
        {
          "output_type": "execute_result",
          "data": {
            "text/plain": [
              "0.9150234"
            ]
          },
          "metadata": {
            "tags": []
          },
          "execution_count": 51
        }
      ]
    },
    {
      "cell_type": "code",
      "metadata": {
        "colab": {
          "base_uri": "https://localhost:8080/"
        },
        "id": "Eb_whwc_7agi",
        "outputId": "e4afb4eb-340b-4793-cbcf-7c8d05782556"
      },
      "source": [
        "X[23708:23709]"
      ],
      "execution_count": 52,
      "outputs": [
        {
          "output_type": "execute_result",
          "data": {
            "text/plain": [
              "23708    PLEASE TAKE A MINUTE TO READ MY ENTIRE REVIEW. I AM NOT KNOCKING THE FILM ITSELF - ONLY THE DVD VERSIONS CURRENTLY AVAILABLE.<br /><br />***<br /><br />I really wanted to give this film even two stars. I mean how could it possibly rank a mere 1 out of 10!?!<br /><br />Here's how: An epic film adaptation of Tolstoy's novel \"War and Peace\" with historically accurate battle scenes, courtesy of the Red Army, and an extremely faithful, scene-for-scene adaptation of the novel would be difficult but worth sitting through for seven hours - if that's what you were seeing.<br /><br />The trouble is you can't see that film - anywhere as far as I know.<br /><br />I am attempting to watch the RusCiCo DVD version - widely considered the best version available since it's letter boxed and restores the scenes that were cut from other DVD releases. <br /><br />But, it is one of the worst film prints I've ever seen transfered to DVD. The picture is muddy and inconsistent, often strobing. It's almost tolerable if you crank your brightness, color and picture levels up to maximum.... but the problem doesn't end there.<br /><br />The sound is also way inconsistent, blaringly loud in parts, virtually inaudible in others. <br /><br />And as for languages, it's a HUGE problem for English speakers - the dubbed option has some good actors, and some really terrible ones whose performance grates, and parts of the film just aren't dubbed at all, slipping back into Russian and even French randomly.<br /><br />The subtitled option isn't much better. The subtitles don't appear below the image, but right over it - obscuring some of the beauty (or what's left of it) in the scenery. Furthermore, the subtitles are often a poor translation (a shame given that the script took pains to hew so close to Tolstoy's actual words), and the subtitles too seem to just drop out in parts. <br /><br />So, even if you max out the color, brightness and picture settings, and turn the volume way up, and choose subtitled *and* English dubbed, you're still going to get a film that's annoying to watch and listen to.<br /><br />Can it's content overcome that? It might have been able to, but at seven hours - who can stand it for that long?<br /><br />Maybe someday, someone will come along and restore this - and maybe then I will see a masterpiece - but for now, I just can't give more than one star to something I've only been able to stand watching about the first 12% of.\n",
              "Name: review, dtype: object"
            ]
          },
          "metadata": {
            "tags": []
          },
          "execution_count": 52
        }
      ]
    },
    {
      "cell_type": "code",
      "metadata": {
        "id": "tS-aCHK77dB7"
      },
      "source": [
        "c = nlp(str(X[23708:23709])).vector"
      ],
      "execution_count": 53,
      "outputs": []
    },
    {
      "cell_type": "code",
      "metadata": {
        "colab": {
          "base_uri": "https://localhost:8080/"
        },
        "id": "oOik2trr7qwU",
        "outputId": "6e184821-7464-4916-e54d-315b7fc70bb8"
      },
      "source": [
        "cosine_similarity(a,c)"
      ],
      "execution_count": 54,
      "outputs": [
        {
          "output_type": "execute_result",
          "data": {
            "text/plain": [
              "0.950082"
            ]
          },
          "metadata": {
            "tags": []
          },
          "execution_count": 54
        }
      ]
    },
    {
      "cell_type": "markdown",
      "metadata": {
        "id": "dJMKfS6AbWmZ"
      },
      "source": [
        "## **Mathematical models for sentiment analysis**\n",
        "### SVM Model"
      ]
    },
    {
      "cell_type": "code",
      "metadata": {
        "id": "gos1dCJH7uDz"
      },
      "source": [
        "import pandas as pd\n",
        "import numpy as np\n",
        "from nltk.tokenize import word_tokenize\n",
        "from nltk import pos_tag\n",
        "from nltk.corpus import stopwords\n",
        "from nltk.stem import WordNetLemmatizer\n",
        "from sklearn.preprocessing import LabelEncoder\n",
        "from collections import defaultdict\n",
        "from nltk.corpus import wordnet as wn\n",
        "from sklearn.feature_extraction.text import TfidfVectorizer\n",
        "from sklearn import model_selection, naive_bayes, svm\n",
        "from sklearn.metrics import accuracy_score"
      ],
      "execution_count": 55,
      "outputs": []
    },
    {
      "cell_type": "code",
      "metadata": {
        "id": "xsvyIo_pcsWz"
      },
      "source": [
        "Encoder = LabelEncoder()\n",
        "Train_Y = Encoder.fit_transform(y_train)\n",
        "Test_Y = Encoder.fit_transform(y_test)"
      ],
      "execution_count": 56,
      "outputs": []
    },
    {
      "cell_type": "markdown",
      "metadata": {
        "id": "BnemH9HHd5dK"
      },
      "source": [
        "Word Vectorization"
      ]
    },
    {
      "cell_type": "code",
      "metadata": {
        "id": "aLtU22vodzrF"
      },
      "source": [
        "Tfidf_vect = TfidfVectorizer()\n",
        "Tfidf_vect.fit(text)\n",
        "Train_X_Tfidf = Tfidf_vect.transform(X_train)\n",
        "Test_X_Tfidf = Tfidf_vect.transform(X_test)"
      ],
      "execution_count": 57,
      "outputs": []
    },
    {
      "cell_type": "code",
      "metadata": {
        "colab": {
          "base_uri": "https://localhost:8080/"
        },
        "id": "lVwB9AfiHpxo",
        "outputId": "e6af26a9-c436-4373-c980-33757e9f95bd"
      },
      "source": [
        "print(X_train.shape,y_test.shape)"
      ],
      "execution_count": 58,
      "outputs": [
        {
          "output_type": "stream",
          "text": [
            "(18968,) (4742,)\n"
          ],
          "name": "stdout"
        }
      ]
    },
    {
      "cell_type": "code",
      "metadata": {
        "colab": {
          "base_uri": "https://localhost:8080/"
        },
        "id": "otPToCbyfxr9",
        "outputId": "419f75b3-1aca-4ab6-93f4-15749d4e431f"
      },
      "source": [
        "# Classifier - Algorithm - SVM\n",
        "# fit the training dataset on the classifier\n",
        "SVM = svm.SVC(C=1.0, kernel='linear', degree=3, gamma='auto')\n",
        "SVM.fit(Train_X_Tfidf,Train_Y)\n",
        "# predict the labels on validation dataset\n",
        "predictions_SVM = SVM.predict(Test_X_Tfidf)\n",
        "# Use accuracy_score function to get the accuracy\n",
        "print(\"SVM Accuracy Score -> \",accuracy_score(predictions_SVM, Test_Y)*100)"
      ],
      "execution_count": 59,
      "outputs": [
        {
          "output_type": "stream",
          "text": [
            "SVM Accuracy Score ->  89.37157317587517\n"
          ],
          "name": "stdout"
        }
      ]
    },
    {
      "cell_type": "markdown",
      "metadata": {
        "id": "5pWhVolLSQkU"
      },
      "source": [
        "### Navie Bayes Model"
      ]
    },
    {
      "cell_type": "code",
      "metadata": {
        "colab": {
          "base_uri": "https://localhost:8080/"
        },
        "id": "m8N7gGV2eR72",
        "outputId": "f30959b8-cfb0-410d-d77e-8af2b54480bc"
      },
      "source": [
        "# fit the training dataset on the NB classifier\n",
        "Naive = naive_bayes.MultinomialNB()\n",
        "Naive.fit(Train_X_Tfidf,Train_Y)\n",
        "# predict the labels on validation dataset\n",
        "predictions_NB = Naive.predict(Test_X_Tfidf)\n",
        "# Use accuracy_score function to get the accuracy\n",
        "print(\"Naive Bayes Accuracy Score -> \",accuracy_score(predictions_NB, Test_Y)*100)"
      ],
      "execution_count": 60,
      "outputs": [
        {
          "output_type": "stream",
          "text": [
            "Naive Bayes Accuracy Score ->  85.49135385913117\n"
          ],
          "name": "stdout"
        }
      ]
    },
    {
      "cell_type": "markdown",
      "metadata": {
        "id": "5SSbqQ9qYex-"
      },
      "source": [
        "**AUC ROC curve:**  Area Under Curve - Receiver Characteristic Operator"
      ]
    },
    {
      "cell_type": "code",
      "metadata": {
        "id": "CpR8cMxFUAfi"
      },
      "source": [
        "from sklearn.metrics import roc_curve\n",
        "\n",
        "# roc curve for models\n",
        "flasepositiverate1, truepositiverate1, thresh1 = roc_curve(Test_Y, predictions_SVM, pos_label=1)\n",
        "flasepositiverate2, truepositiverate2, thresh2 = roc_curve(Test_Y, predictions_NB, pos_label=1)\n",
        "\n",
        "# roc curve for tpr = fpr \n",
        "random_probs = [0 for i in range(len(Test_Y))]\n",
        "p_fpr, p_tpr, _ = roc_curve(Test_Y, random_probs, pos_label=1)\n"
      ],
      "execution_count": 66,
      "outputs": []
    },
    {
      "cell_type": "code",
      "metadata": {
        "colab": {
          "base_uri": "https://localhost:8080/"
        },
        "id": "I-p4k7IUT6us",
        "outputId": "7f7a8e5f-0b7e-420e-f0f6-779d5225ec83"
      },
      "source": [
        "\n",
        "from sklearn.metrics import roc_auc_score\n",
        "\n",
        "# auc scores\n",
        "auc_score1 = roc_auc_score(Test_Y, predictions_SVM)\n",
        "auc_score2 = roc_auc_score(Test_Y, predictions_NB)\n",
        "\n",
        "print(auc_score1, auc_score2)"
      ],
      "execution_count": 67,
      "outputs": [
        {
          "output_type": "stream",
          "text": [
            "0.893764392682184 0.8544479970510124\n"
          ],
          "name": "stdout"
        }
      ]
    },
    {
      "cell_type": "code",
      "metadata": {
        "colab": {
          "base_uri": "https://localhost:8080/",
          "height": 376
        },
        "id": "JM86X-vnr9Mm",
        "outputId": "a8de6f46-1de8-49ad-e034-19f6f1c4fa3d"
      },
      "source": [
        "\n",
        "# matplotlib\n",
        "import matplotlib.pyplot as plt\n",
        "plt.style.use('seaborn')\n",
        "\n",
        "# plot roc curves\n",
        "plt.plot(flasepositiverate1, truepositiverate1, linestyle='--',color='orange', label='SVM')\n",
        "plt.plot(flasepositiverate2, truepositiverate2, linestyle='--',color='green', label='Navie Bayes')\n",
        "plt.plot(p_fpr, p_tpr, linestyle='--', color='blue')\n",
        "# title\n",
        "plt.title('ROC curve')\n",
        "# x label\n",
        "plt.xlabel('False Positive Rate')\n",
        "# y label\n",
        "plt.ylabel('True Positive rate')\n",
        "\n",
        "plt.legend(loc='best')\n",
        "plt.savefig('ROC',dpi=300)\n",
        "plt.show();"
      ],
      "execution_count": 69,
      "outputs": [
        {
          "output_type": "display_data",
          "data": {
            "image/png": "[encoded data removed]",
            "text/plain": [
              "<Figure size 576x396 with 1 Axes>"
            ]
          },
          "metadata": {
            "tags": []
          }
        }
      ]
    },
    {
      "cell_type": "code",
      "metadata": {
        "colab": {
          "base_uri": "https://localhost:8080/",
          "height": 1000
        },
        "id": "C_eG1Axqe53I",
        "outputId": "1ebd5574-0fb2-475b-9060-2cbad208be5e"
      },
      "source": [
        "    plt.subplots(1, figsize=(10,10))\n",
        "    plt.title('Receiver Operating Characteristic - Navie bayes')\n",
        "    plt.plot(flasepositiverate1, truepositiverate1)\n",
        "    plt.plot([0, 1], ls=\"--\")\n",
        "    plt.plot([0, 0], [1, 0] , c=\".7\"), plt.plot([1, 1] , c=\".7\")\n",
        "    plt.ylabel('True Positive Rate')\n",
        "    plt.xlabel('False Positive Rate')\n",
        "    plt.show()\n",
        "\n",
        "    plt.subplots(1, figsize=(10,10))\n",
        "    plt.title('Receiver Operating Characteristic - SVM')\n",
        "    plt.plot(flasepositiverate2, truepositiverate2)\n",
        "    plt.plot([0, 1], ls=\"--\")\n",
        "    plt.plot([0, 0], [1, 0] , c=\".7\"), plt.plot([1, 1] , c=\".7\")\n",
        "    plt.ylabel('True Positive Rate')\n",
        "    plt.xlabel('False Positive Rate')\n",
        "    plt.show()"
      ],
      "execution_count": 72,
      "outputs": [
        {
          "output_type": "display_data",
          "data": {
            "image/png": "[encoded data removed]",
            "text/plain": [
              "<Figure size 720x720 with 1 Axes>"
            ]
          },
          "metadata": {
            "tags": []
          }
        },
        {
          "output_type": "display_data",
          "data": {
            "image/png": "[encoded data removed]",
            "text/plain": [
              "<Figure size 720x720 with 1 Axes>"
            ]
          },
          "metadata": {
            "tags": []
          }
        }
      ]
    }
  ]
}